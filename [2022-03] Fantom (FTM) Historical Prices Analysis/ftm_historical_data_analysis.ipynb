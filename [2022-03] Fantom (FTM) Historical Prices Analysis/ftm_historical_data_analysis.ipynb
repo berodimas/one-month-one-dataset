{
 "cells": [
  {
   "cell_type": "markdown",
   "metadata": {},
   "source": [
    "# **EDA, Feature Engineering, Hypothesis Testing, and Time Series Analysis on Fantom (FTM) Historical Prices Dataset**"
   ]
  },
  {
   "cell_type": "markdown",
   "metadata": {},
   "source": [
    "### **Introduction**\n",
    "\n",
    "##### About Fantom\n",
    "The Fantom Foundation is dedicated to building the infrastructure for a more democratic and efficient future. Our team is made up of engineers, scientists, researchers, designers, and entrepreneurs who share the same vision. Together, we’re working to improve everyone’s lives by making advanced technologies more accessible and seamlessly integrated. True to the maxim of decentralization, our team is distributed across the world. [(source)](https://fantom.foundation/about/)\n",
    "\n",
    "##### About CoinMarketCap\n",
    "CoinMarketCap is the world's most-referenced price-tracking website for cryptoassets in the rapidly growing cryptocurrency space. Its mission is to make crypto discoverable and efficient globally by empowering retail users with unbiased, high quality and accurate information for drawing their own informed conclusions.[(source)](https://coinmarketcap.com/about/)"
   ]
  },
  {
   "cell_type": "markdown",
   "metadata": {},
   "source": [
    "### **Dataset Overview**\n",
    "\n",
    "##### Feature Information\n",
    "\n",
    "* open: \n",
    "* high: \n",
    "* low: \n",
    "* close: \n",
    "* volume: \n",
    "* marketCap: \n",
    "* timestamp: \n",
    "\n",
    "##### Source\n",
    "\n",
    "Dataset was scraped from [CoinMarketCap](https://coinmarketcap.com).\n",
    "You can scrape the latest data by yourself using <code>[scraper.py](https://github.com/berodimas/one-month-one-dataset/blob/master/%5B2022-02%5D%20NFT%20Price%20Analysis%20and%20Regression/data/scraper.py)</code> python script on <code>data</code> folder. The script basically only get last 365 days of historical data, you can configure your own date range by changing <code>days</code> parameter on <code>timedelta()</code> function. \n"
   ]
  },
  {
   "cell_type": "markdown",
   "metadata": {},
   "source": [
    "### **Section 1: Setup, Load, and Clean** "
   ]
  },
  {
   "cell_type": "code",
   "execution_count": 4,
   "metadata": {},
   "outputs": [],
   "source": [
    "import os\n",
    "data_path = ['./data']"
   ]
  },
  {
   "cell_type": "code",
   "execution_count": 5,
   "metadata": {},
   "outputs": [],
   "source": [
    "## Import neccessary libraries to load data\n",
    "import numpy as np\n",
    "import pandas as pd\n",
    "import warnings\n",
    "warnings.filterwarnings('ignore')"
   ]
  },
  {
   "cell_type": "code",
   "execution_count": 6,
   "metadata": {},
   "outputs": [],
   "source": [
    "from data.scraper import scraper\n",
    "from datetime import datetime\n",
    "scraper()"
   ]
  },
  {
   "cell_type": "code",
   "execution_count": 7,
   "metadata": {},
   "outputs": [],
   "source": [
    "## Load in the Dataset\n",
    "filepath = os.sep.join(\n",
    "    data_path + ['2022-03-28_FTM.csv'])\n",
    "df = pd.read_csv(filepath)"
   ]
  },
  {
   "cell_type": "code",
   "execution_count": 8,
   "metadata": {},
   "outputs": [
    {
     "data": {
      "text/html": [
       "<div>\n",
       "<style scoped>\n",
       "    .dataframe tbody tr th:only-of-type {\n",
       "        vertical-align: middle;\n",
       "    }\n",
       "\n",
       "    .dataframe tbody tr th {\n",
       "        vertical-align: top;\n",
       "    }\n",
       "\n",
       "    .dataframe thead th {\n",
       "        text-align: right;\n",
       "    }\n",
       "</style>\n",
       "<table border=\"1\" class=\"dataframe\">\n",
       "  <thead>\n",
       "    <tr style=\"text-align: right;\">\n",
       "      <th></th>\n",
       "      <th>open</th>\n",
       "      <th>high</th>\n",
       "      <th>low</th>\n",
       "      <th>close</th>\n",
       "      <th>volume</th>\n",
       "      <th>marketCap</th>\n",
       "      <th>timestamp</th>\n",
       "    </tr>\n",
       "  </thead>\n",
       "  <tbody>\n",
       "    <tr>\n",
       "      <th>0</th>\n",
       "      <td>0.360041</td>\n",
       "      <td>0.419649</td>\n",
       "      <td>0.354519</td>\n",
       "      <td>0.393943</td>\n",
       "      <td>1.190319e+08</td>\n",
       "      <td>1.002588e+09</td>\n",
       "      <td>2021-03-28T23:59:59.999Z</td>\n",
       "    </tr>\n",
       "    <tr>\n",
       "      <th>1</th>\n",
       "      <td>0.393729</td>\n",
       "      <td>0.438397</td>\n",
       "      <td>0.384409</td>\n",
       "      <td>0.432068</td>\n",
       "      <td>1.148778e+08</td>\n",
       "      <td>1.099615e+09</td>\n",
       "      <td>2021-03-29T23:59:59.999Z</td>\n",
       "    </tr>\n",
       "    <tr>\n",
       "      <th>2</th>\n",
       "      <td>0.432711</td>\n",
       "      <td>0.478602</td>\n",
       "      <td>0.423105</td>\n",
       "      <td>0.432618</td>\n",
       "      <td>1.497082e+08</td>\n",
       "      <td>1.101017e+09</td>\n",
       "      <td>2021-03-30T23:59:59.999Z</td>\n",
       "    </tr>\n",
       "    <tr>\n",
       "      <th>3</th>\n",
       "      <td>0.432525</td>\n",
       "      <td>0.446946</td>\n",
       "      <td>0.391088</td>\n",
       "      <td>0.423144</td>\n",
       "      <td>1.328263e+08</td>\n",
       "      <td>1.076905e+09</td>\n",
       "      <td>2021-03-31T23:59:59.999Z</td>\n",
       "    </tr>\n",
       "    <tr>\n",
       "      <th>4</th>\n",
       "      <td>0.422651</td>\n",
       "      <td>0.457409</td>\n",
       "      <td>0.410224</td>\n",
       "      <td>0.444327</td>\n",
       "      <td>1.140365e+08</td>\n",
       "      <td>1.130814e+09</td>\n",
       "      <td>2021-04-01T23:59:59.999Z</td>\n",
       "    </tr>\n",
       "  </tbody>\n",
       "</table>\n",
       "</div>"
      ],
      "text/plain": [
       "       open      high       low     close        volume     marketCap  \\\n",
       "0  0.360041  0.419649  0.354519  0.393943  1.190319e+08  1.002588e+09   \n",
       "1  0.393729  0.438397  0.384409  0.432068  1.148778e+08  1.099615e+09   \n",
       "2  0.432711  0.478602  0.423105  0.432618  1.497082e+08  1.101017e+09   \n",
       "3  0.432525  0.446946  0.391088  0.423144  1.328263e+08  1.076905e+09   \n",
       "4  0.422651  0.457409  0.410224  0.444327  1.140365e+08  1.130814e+09   \n",
       "\n",
       "                  timestamp  \n",
       "0  2021-03-28T23:59:59.999Z  \n",
       "1  2021-03-29T23:59:59.999Z  \n",
       "2  2021-03-30T23:59:59.999Z  \n",
       "3  2021-03-31T23:59:59.999Z  \n",
       "4  2021-04-01T23:59:59.999Z  "
      ]
     },
     "execution_count": 8,
     "metadata": {},
     "output_type": "execute_result"
    }
   ],
   "source": [
    "df.head()"
   ]
  },
  {
   "cell_type": "code",
   "execution_count": 9,
   "metadata": {},
   "outputs": [
    {
     "name": "stdout",
     "output_type": "stream",
     "text": [
      "<class 'pandas.core.frame.DataFrame'>\n",
      "RangeIndex: 365 entries, 0 to 364\n",
      "Data columns (total 7 columns):\n",
      " #   Column     Non-Null Count  Dtype  \n",
      "---  ------     --------------  -----  \n",
      " 0   open       365 non-null    float64\n",
      " 1   high       365 non-null    float64\n",
      " 2   low        365 non-null    float64\n",
      " 3   close      365 non-null    float64\n",
      " 4   volume     365 non-null    float64\n",
      " 5   marketCap  365 non-null    float64\n",
      " 6   timestamp  365 non-null    object \n",
      "dtypes: float64(6), object(1)\n",
      "memory usage: 20.1+ KB\n"
     ]
    }
   ],
   "source": [
    "## Examine the information from the data\n",
    "df.info()"
   ]
  },
  {
   "cell_type": "markdown",
   "metadata": {},
   "source": [
    "\n",
    "---\n",
    "**2022 | Dimas Adrian Mukti / [@berodimas](https://berodimas.netlify.app/)**"
   ]
  }
 ],
 "metadata": {
  "interpreter": {
   "hash": "258094a0b5481bda05ae98aeeab472958eb7c2136bc8ae26c528a2a432605c0a"
  },
  "kernelspec": {
   "display_name": "Python 3.7.9 64-bit (system)",
   "name": "python3"
  },
  "language_info": {
   "codemirror_mode": {
    "name": "ipython",
    "version": 3
   },
   "file_extension": ".py",
   "mimetype": "text/x-python",
   "name": "python",
   "nbconvert_exporter": "python",
   "pygments_lexer": "ipython3",
   "version": "3.9.10"
  },
  "orig_nbformat": 4
 },
 "nbformat": 4,
 "nbformat_minor": 2
}
